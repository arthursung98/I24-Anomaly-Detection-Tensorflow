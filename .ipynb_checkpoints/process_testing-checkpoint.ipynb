{
 "cells": [
  {
   "cell_type": "code",
   "execution_count": 1,
   "id": "ec4f0895",
   "metadata": {},
   "outputs": [],
   "source": [
    "import preprocess_data\n",
    "import pathlib\n",
    "import numpy as np\n",
    "import pandas as pd"
   ]
  },
  {
   "cell_type": "code",
   "execution_count": 2,
   "id": "f7d25317",
   "metadata": {},
   "outputs": [],
   "source": [
    "train = preprocess_data.get_x_train('TM_1000_GT.csv')"
   ]
  },
  {
   "cell_type": "code",
   "execution_count": null,
   "id": "158dfbe9",
   "metadata": {},
   "outputs": [],
   "source": [
    "## Use for development & Testing"
   ]
  },
  {
   "cell_type": "code",
   "execution_count": null,
   "id": "3031b220",
   "metadata": {},
   "outputs": [],
   "source": [
    "data_path = pathlib.Path().absolute().joinpath('../gtData')\n",
    "file_name = data_path.joinpath('TM_1000_GT.csv')\n",
    "    \n",
    "df = pd.read_csv(file_name, skiprows=0, error_bad_lines=False, index_col=False)\n",
    "df = df.reindex(columns=['Frame #','ID','x'])"
   ]
  },
  {
   "cell_type": "code",
   "execution_count": null,
   "id": "d810405c",
   "metadata": {
    "scrolled": true
   },
   "outputs": [],
   "source": [
    "processed_data = []\n",
    "car_ids = np.unique(np.array(df['ID']))\n",
    "\n",
    "for one_id in car_ids :\n",
    "    one_car_df = df.loc[df['ID'] == one_id]\n",
    "    one_car_df = one_car_df.sort_values(by='Frame #').reset_index(drop=True)\n",
    "\n",
    "    start_frame, max_frame = 0, int(one_car_df.size / 3)\n",
    "\n",
    "    while(max_frame - start_frame >= 50) :\n",
    "        df_50batch = one_car_df.iloc[start_frame : start_frame + 50]\n",
    "        df_50batch_xcoord = np.array(df_50batch['x'])\n",
    "        processed_data.append(df_50batch_xcoord)\n",
    "        start_frame += 50\n",
    "\n",
    "processed_data = np.array(processed_data)\n",
    "pd.DataFrame(processed_data).to_csv(\"processed.csv\")"
   ]
  },
  {
   "cell_type": "code",
   "execution_count": null,
   "id": "63bf3e90",
   "metadata": {},
   "outputs": [],
   "source": []
  }
 ],
 "metadata": {
  "kernelspec": {
   "display_name": "Python 3",
   "language": "python",
   "name": "python3"
  },
  "language_info": {
   "codemirror_mode": {
    "name": "ipython",
    "version": 3
   },
   "file_extension": ".py",
   "mimetype": "text/x-python",
   "name": "python",
   "nbconvert_exporter": "python",
   "pygments_lexer": "ipython3",
   "version": "3.8.8"
  }
 },
 "nbformat": 4,
 "nbformat_minor": 5
}
