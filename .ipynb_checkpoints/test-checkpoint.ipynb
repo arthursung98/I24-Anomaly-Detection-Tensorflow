{
 "cells": [
  {
   "cell_type": "code",
   "execution_count": 1,
   "id": "2a5d842c",
   "metadata": {},
   "outputs": [],
   "source": [
    "import preprocess\n",
    "# import tensorflow as tf"
   ]
  },
  {
   "cell_type": "code",
   "execution_count": 2,
   "id": "0ee318d4",
   "metadata": {},
   "outputs": [],
   "source": [
    "# (X_train, y_train), (X_test, y_test) = tf.keras.datasets.mnist.load_data()\n",
    "# print('Shape of X_train: ', X_train.shape)\n",
    "# print('Shape of y_train: ', y_train.shape)\n",
    "# print('Shape of X_test: ', X_test.shape)\n",
    "# print('Shape of y_test: ', y_test.shape)\n",
    "\n",
    "x_train, y_train = preprocess.process_data('TM_chunk0_ratio0_GT.csv', 0.1)"
   ]
  },
  {
   "cell_type": "code",
   "execution_count": 4,
   "id": "6c992289",
   "metadata": {},
   "outputs": [
    {
     "name": "stdout",
     "output_type": "stream",
     "text": [
      "Shape of x_train :  (4123, 100)\n",
      "Shape of y_train :  (4123,)\n"
     ]
    },
    {
     "data": {
      "text/plain": [
       "array([2374.54641422, 2374.45259059, 2374.35876356, 2374.26493313,\n",
       "       2374.17109931, 2374.0772621 , 2373.98342149, 2373.88957749,\n",
       "       2373.79573009, 2373.70187929, 2373.6080251 , 2373.51416752,\n",
       "       2373.42030655, 2373.32644218, 2373.23257441, 2373.13870325,\n",
       "       2373.0448287 , 2372.95095076, 2372.85706942, 2372.76318469,\n",
       "       2372.66929656, 2372.57540504, 2372.48151013, 2372.38761183,\n",
       "       2372.29371013, 2372.19980504, 2372.10589656, 2372.01198469,\n",
       "       2371.91806942, 2371.82415076, 2371.73022871, 2371.63630327,\n",
       "       2371.54237444, 2371.44844221, 2371.3545066 , 2371.26056759,\n",
       "       2371.16662519, 2371.0726794 , 2370.97873022, 2370.88477765,\n",
       "       2370.79082168, 2370.69686233, 2370.60289958, 2370.50893345,\n",
       "       2370.41496392, 2370.320991  , 2370.2270147 , 2370.133035  ,\n",
       "       2370.03905191, 2369.94506543, 2369.85107557, 2369.75708231,\n",
       "       2369.66308566, 2369.56908562, 2369.4750822 , 2369.38107538,\n",
       "       2369.28706517, 2369.19305158, 2369.09903459, 2369.00501422,\n",
       "       2368.91099045, 2368.8169633 , 2368.72293276, 2368.62889882,\n",
       "       2368.5348615 , 2368.44082079, 2368.3467767 , 2368.25272921,\n",
       "       2368.15867833, 2368.06462407, 2367.97056641, 2367.87650537,\n",
       "       2367.78244094, 2367.68837312, 2367.59430191, 2367.50022731,\n",
       "       2367.40614933, 2367.31206795, 2367.21798319, 2367.12389504,\n",
       "       2367.0298035 , 2366.93570858, 2366.84161026, 2366.74750856,\n",
       "       2366.65340347, 2366.55929499, 2366.46518312, 2366.37106786,\n",
       "       2366.27694922, 2366.18282719, 2366.08870177, 2365.99457296,\n",
       "       2365.90044076, 2365.80630518, 2365.71216621, 2365.61802385,\n",
       "       2365.5238781 , 2365.42972896, 2365.33557644, 2365.24142053])"
      ]
     },
     "metadata": {},
     "output_type": "display_data"
    }
   ],
   "source": [
    "print('Shape of x_train : ', x_train.shape)\n",
    "print('Shape of y_train : ', y_train.shape)\n",
    "display(x_train[3000])"
   ]
  },
  {
   "cell_type": "code",
   "execution_count": null,
   "id": "e44da44c",
   "metadata": {},
   "outputs": [],
   "source": []
  }
 ],
 "metadata": {
  "kernelspec": {
   "display_name": "Python 3 (ipykernel)",
   "language": "python",
   "name": "python3"
  },
  "language_info": {
   "codemirror_mode": {
    "name": "ipython",
    "version": 3
   },
   "file_extension": ".py",
   "mimetype": "text/x-python",
   "name": "python",
   "nbconvert_exporter": "python",
   "pygments_lexer": "ipython3",
   "version": "3.10.0"
  }
 },
 "nbformat": 4,
 "nbformat_minor": 5
}
