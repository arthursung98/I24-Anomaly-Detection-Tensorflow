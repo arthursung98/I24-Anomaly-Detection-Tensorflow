{
 "cells": [
  {
   "cell_type": "code",
   "execution_count": 1,
   "id": "3a60043f",
   "metadata": {},
   "outputs": [],
   "source": [
    "import preprocess\n",
    "# import tensorflow as tf"
   ]
  },
  {
   "cell_type": "code",
   "execution_count": 2,
   "id": "6476c4f9",
   "metadata": {},
   "outputs": [],
   "source": [
    "# (X_train, y_train), (X_test, y_test) = tf.keras.datasets.mnist.load_data()\n",
    "# print('Shape of X_train: ', X_train.shape)\n",
    "# print('Shape of y_train: ', y_train.shape)\n",
    "# print('Shape of X_test: ', X_test.shape)\n",
    "# print('Shape of y_test: ', y_test.shape)\n",
    "\n",
    "filename = 'TM_chunk0_ratio0_GT.csv'\n",
    "x_train, y_train = preprocess.load_data(filename)"
   ]
  },
  {
   "cell_type": "code",
   "execution_count": 3,
   "id": "06cc4cfe",
   "metadata": {},
   "outputs": [
    {
     "name": "stdout",
     "output_type": "stream",
     "text": [
      "Shape of x_train :  (20615, 100)\n",
      "Shape of y_train :  (20615,)\n"
     ]
    }
   ],
   "source": [
    "print('Shape of x_train : ', x_train.shape)\n",
    "print('Shape of y_train : ', y_train.shape)"
   ]
  }
 ],
 "metadata": {
  "kernelspec": {
   "display_name": "Python 3 (ipykernel)",
   "language": "python",
   "name": "python3"
  },
  "language_info": {
   "codemirror_mode": {
    "name": "ipython",
    "version": 3
   },
   "file_extension": ".py",
   "mimetype": "text/x-python",
   "name": "python",
   "nbconvert_exporter": "python",
   "pygments_lexer": "ipython3",
   "version": "3.10.0"
  }
 },
 "nbformat": 4,
 "nbformat_minor": 5
}
